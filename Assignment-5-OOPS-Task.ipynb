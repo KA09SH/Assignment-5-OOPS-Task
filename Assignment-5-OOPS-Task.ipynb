{
 "cells": [
  {
   "cell_type": "code",
   "execution_count": 1,
   "id": "ebdb7d8f",
   "metadata": {},
   "outputs": [
    {
     "data": {
      "text/plain": [
       "('Jimny', 240, 15)"
      ]
     },
     "execution_count": 1,
     "metadata": {},
     "output_type": "execute_result"
    }
   ],
   "source": [
    "#Q1, Create a vehicle class with an init method having instance variables as name_of_vehicle, max_speed\n",
    "#.   and average_of_vehicle.\n",
    "\n",
    "class vehicle:\n",
    "    def __init__(XYZ, name_of_vehicle, max_speed, average_of_vehicle):\n",
    "        XYZ.name = name_of_vehicle\n",
    "        XYZ.speed = max_speed\n",
    "        XYZ.avg_vehicle = average_of_vehicle\n",
    "        \n",
    "    def return_car_details(XYZ):\n",
    "        return XYZ.name, XYZ.speed, XYZ.avg_vehicle\n",
    "    \n",
    "maruti = vehicle(\"Jimny\", 240, 15)\n",
    "maruti.return_car_details()"
   ]
  },
  {
   "cell_type": "code",
   "execution_count": 29,
   "id": "f4cf1970",
   "metadata": {},
   "outputs": [
    {
     "data": {
      "text/plain": [
       "('Jimny', 4)"
      ]
     },
     "execution_count": 29,
     "metadata": {},
     "output_type": "execute_result"
    }
   ],
   "source": [
    "#Q2. Create a child class car from the vehicle class created in Que 1, which will inherit the vehicle class.\n",
    "#.   Create a method named seating_capacity which takes capacity as an argument and returns the name of\n",
    "#.   the vehicle and its seating capacity.\n",
    "\n",
    "class vehicle:\n",
    "    def __init__(XYZ, name_of_vehicle, max_speed, average_of_vehicle):\n",
    "        XYZ.name = name_of_vehicle\n",
    "        XYZ.speed = max_speed\n",
    "        XYZ.avg_vehicle = average_of_vehicle\n",
    "        \n",
    "    def return_car_details(XYZ):\n",
    "        return XYZ.name, XYZ.speed, XYZ.avg_vehicle\n",
    "    \n",
    "class car(vehicle):\n",
    "    def seating_capacity(XYZ, seat_cap):\n",
    "        XYZ.seating_capacity = seat_cap\n",
    "        return XYZ.name, XYZ.seating_capacity\n",
    "    \n",
    "car1 = car(\"Jimny\", 240, 15)\n",
    "car1.seating_capacity(4)"
   ]
  },
  {
   "cell_type": "code",
   "execution_count": 4,
   "id": "e7906424",
   "metadata": {},
   "outputs": [
    {
     "name": "stdout",
     "output_type": "stream",
     "text": [
      "In Class2\n"
     ]
    }
   ],
   "source": [
    "#Q3. What is multiple inheritance? Write a python code to demonstrate multiple inheritance.\n",
    "\n",
    "#A. When a class is derived from more than one base class it is called multiple Inheritance. The derived class inherits all the features of the base case.\n",
    "#.  Python program to demonstrate multiple inheritance.\n",
    "\n",
    "class Class1:\n",
    "    def m(self):\n",
    "        print(\"In Class1\")\n",
    "       \n",
    "class Class2(Class1):\n",
    "    def m(self):\n",
    "        print(\"In Class2\")\n",
    " \n",
    "class Class3(Class1):\n",
    "    def m(self):\n",
    "        print(\"In Class3\") \n",
    "        \n",
    "class Class4(Class2, Class3):\n",
    "    pass  \n",
    "     \n",
    "obj = Class4()\n",
    "obj.m()\n"
   ]
  },
  {
   "cell_type": "code",
   "execution_count": 37,
   "id": "aa939ed1",
   "metadata": {},
   "outputs": [
    {
     "name": "stdout",
     "output_type": "stream",
     "text": [
      "21\n",
      "21\n"
     ]
    }
   ],
   "source": [
    "#Q4. What are getter and setter in python? Create a class and create a getter and a setter method in this class.\n",
    "\n",
    "#A.\n",
    "# Getter: A method that allows you to access an attribute in a given class. \n",
    "# Setter: A method that allows you to set or mutate the value of an attribute in a class\n",
    "\n",
    "class Demo:\n",
    "    def __init__(self, age = 0):\n",
    "         self._age = age\n",
    "      \n",
    "    # getter method\n",
    "    def get_age(self):\n",
    "        return self._age\n",
    "      \n",
    "    # setter method\n",
    "    def set_age(self, x):\n",
    "        self._age = x\n",
    "\n",
    "SHUBH = Demo()\n",
    "  \n",
    "# setting the age using setter\n",
    "SHUBH.set_age(21)\n",
    "  \n",
    "# retrieving age using getter\n",
    "print(SHUBH.get_age())\n",
    "  \n",
    "print(SHUBH._age)\n",
    "\n"
   ]
  },
  {
   "cell_type": "code",
   "execution_count": 39,
   "id": "22863077",
   "metadata": {},
   "outputs": [
    {
     "name": "stdout",
     "output_type": "stream",
     "text": [
      "Inside Parent\n",
      "Inside Child\n"
     ]
    }
   ],
   "source": [
    "#Q5.What is method overriding in python? Write a python code to demonstrate method overriding.\n",
    "\n",
    "#A. Method Overriding in Python is an OOPs concept closely related to inheritance. When a child class method overrides(or, provides it's own implementation) the parent class method of the same name, parameters and return type, it is known as method overriding.\n",
    "\n",
    "\n",
    "class Parent():\n",
    "    def __init__(self):\n",
    "        self.value = \"Inside Parent\"\n",
    "        \n",
    "    def show(self):\n",
    "        print(self.value)\n",
    "          \n",
    "\n",
    "class Child(Parent):\n",
    "      \n",
    "    def __init__(self):\n",
    "        self.value = \"Inside Child\"\n",
    "          \n",
    "    def show(self):\n",
    "        print(self.value)\n",
    "          \n",
    "obj1 = Parent()\n",
    "obj2 = Child()\n",
    "  \n",
    "obj1.show()\n",
    "obj2.show()\n"
   ]
  },
  {
   "cell_type": "code",
   "execution_count": null,
   "id": "a20d623b",
   "metadata": {},
   "outputs": [],
   "source": []
  },
  {
   "cell_type": "code",
   "execution_count": null,
   "id": "d62d5734",
   "metadata": {},
   "outputs": [],
   "source": []
  },
  {
   "cell_type": "code",
   "execution_count": null,
   "id": "24f19dba",
   "metadata": {},
   "outputs": [],
   "source": []
  },
  {
   "cell_type": "code",
   "execution_count": null,
   "id": "67514f4c",
   "metadata": {},
   "outputs": [],
   "source": []
  },
  {
   "cell_type": "code",
   "execution_count": null,
   "id": "c865ed9b",
   "metadata": {},
   "outputs": [],
   "source": []
  },
  {
   "cell_type": "code",
   "execution_count": null,
   "id": "525b1c39",
   "metadata": {},
   "outputs": [],
   "source": []
  },
  {
   "cell_type": "code",
   "execution_count": null,
   "id": "a1275e44",
   "metadata": {},
   "outputs": [],
   "source": []
  },
  {
   "cell_type": "code",
   "execution_count": null,
   "id": "b34dcd8f",
   "metadata": {},
   "outputs": [],
   "source": []
  },
  {
   "cell_type": "code",
   "execution_count": null,
   "id": "8d13d8fb",
   "metadata": {},
   "outputs": [],
   "source": []
  }
 ],
 "metadata": {
  "kernelspec": {
   "display_name": "Python 3 (ipykernel)",
   "language": "python",
   "name": "python3"
  },
  "language_info": {
   "codemirror_mode": {
    "name": "ipython",
    "version": 3
   },
   "file_extension": ".py",
   "mimetype": "text/x-python",
   "name": "python",
   "nbconvert_exporter": "python",
   "pygments_lexer": "ipython3",
   "version": "3.10.9"
  }
 },
 "nbformat": 4,
 "nbformat_minor": 5
}
